{
 "cells": [
  {
   "cell_type": "markdown",
   "metadata": {},
   "source": [
    "# This Model Ignored the specific machine failure categories TWF, HDF, PWF, OSF, RNF"
   ]
  },
  {
   "cell_type": "code",
   "execution_count": 1,
   "metadata": {},
   "outputs": [],
   "source": [
    "import pandas as pd\n",
    "import numpy as np\n",
    "import matplotlib.pyplot as plt\n",
    "from sklearn.linear_model import LogisticRegression\n",
    "from sklearn.model_selection import KFold, train_test_split\n",
    "from sklearn.metrics import accuracy_score, precision_score, recall_score, confusion_matrix, ConfusionMatrixDisplay"
   ]
  },
  {
   "cell_type": "markdown",
   "metadata": {},
   "source": [
    "#### Loading initial data"
   ]
  },
  {
   "cell_type": "code",
   "execution_count": 2,
   "metadata": {},
   "outputs": [],
   "source": [
    "initial_data = pd.read_csv('../data/ai4i2020.csv')"
   ]
  },
  {
   "cell_type": "markdown",
   "metadata": {},
   "source": [
    "#### Convering Type column into binary values for model preperation"
   ]
  },
  {
   "cell_type": "code",
   "execution_count": 3,
   "metadata": {},
   "outputs": [],
   "source": [
    "dummy = pd.get_dummies(initial_data['Type'], dtype=int, drop_first=True)"
   ]
  },
  {
   "cell_type": "code",
   "execution_count": 4,
   "metadata": {},
   "outputs": [],
   "source": [
    "cleaned_data = pd.concat([initial_data, dummy], axis=1)"
   ]
  },
  {
   "cell_type": "code",
   "execution_count": 5,
   "metadata": {},
   "outputs": [],
   "source": [
    "cleaned_data.drop(columns=['Type'], inplace=True)"
   ]
  },
  {
   "cell_type": "code",
   "execution_count": 6,
   "metadata": {},
   "outputs": [
    {
     "data": {
      "text/html": [
       "<div>\n",
       "<style scoped>\n",
       "    .dataframe tbody tr th:only-of-type {\n",
       "        vertical-align: middle;\n",
       "    }\n",
       "\n",
       "    .dataframe tbody tr th {\n",
       "        vertical-align: top;\n",
       "    }\n",
       "\n",
       "    .dataframe thead th {\n",
       "        text-align: right;\n",
       "    }\n",
       "</style>\n",
       "<table border=\"1\" class=\"dataframe\">\n",
       "  <thead>\n",
       "    <tr style=\"text-align: right;\">\n",
       "      <th></th>\n",
       "      <th>UDI</th>\n",
       "      <th>Product ID</th>\n",
       "      <th>Air temperature [K]</th>\n",
       "      <th>Process temperature [K]</th>\n",
       "      <th>Rotational speed [rpm]</th>\n",
       "      <th>Torque [Nm]</th>\n",
       "      <th>Tool wear [min]</th>\n",
       "      <th>Machine failure</th>\n",
       "      <th>TWF</th>\n",
       "      <th>HDF</th>\n",
       "      <th>PWF</th>\n",
       "      <th>OSF</th>\n",
       "      <th>RNF</th>\n",
       "      <th>L</th>\n",
       "      <th>M</th>\n",
       "    </tr>\n",
       "  </thead>\n",
       "  <tbody>\n",
       "    <tr>\n",
       "      <th>0</th>\n",
       "      <td>1</td>\n",
       "      <td>M14860</td>\n",
       "      <td>298.1</td>\n",
       "      <td>308.6</td>\n",
       "      <td>1551</td>\n",
       "      <td>42.8</td>\n",
       "      <td>0</td>\n",
       "      <td>0</td>\n",
       "      <td>0</td>\n",
       "      <td>0</td>\n",
       "      <td>0</td>\n",
       "      <td>0</td>\n",
       "      <td>0</td>\n",
       "      <td>0</td>\n",
       "      <td>1</td>\n",
       "    </tr>\n",
       "    <tr>\n",
       "      <th>1</th>\n",
       "      <td>2</td>\n",
       "      <td>L47181</td>\n",
       "      <td>298.2</td>\n",
       "      <td>308.7</td>\n",
       "      <td>1408</td>\n",
       "      <td>46.3</td>\n",
       "      <td>3</td>\n",
       "      <td>0</td>\n",
       "      <td>0</td>\n",
       "      <td>0</td>\n",
       "      <td>0</td>\n",
       "      <td>0</td>\n",
       "      <td>0</td>\n",
       "      <td>1</td>\n",
       "      <td>0</td>\n",
       "    </tr>\n",
       "    <tr>\n",
       "      <th>2</th>\n",
       "      <td>3</td>\n",
       "      <td>L47182</td>\n",
       "      <td>298.1</td>\n",
       "      <td>308.5</td>\n",
       "      <td>1498</td>\n",
       "      <td>49.4</td>\n",
       "      <td>5</td>\n",
       "      <td>0</td>\n",
       "      <td>0</td>\n",
       "      <td>0</td>\n",
       "      <td>0</td>\n",
       "      <td>0</td>\n",
       "      <td>0</td>\n",
       "      <td>1</td>\n",
       "      <td>0</td>\n",
       "    </tr>\n",
       "    <tr>\n",
       "      <th>3</th>\n",
       "      <td>4</td>\n",
       "      <td>L47183</td>\n",
       "      <td>298.2</td>\n",
       "      <td>308.6</td>\n",
       "      <td>1433</td>\n",
       "      <td>39.5</td>\n",
       "      <td>7</td>\n",
       "      <td>0</td>\n",
       "      <td>0</td>\n",
       "      <td>0</td>\n",
       "      <td>0</td>\n",
       "      <td>0</td>\n",
       "      <td>0</td>\n",
       "      <td>1</td>\n",
       "      <td>0</td>\n",
       "    </tr>\n",
       "    <tr>\n",
       "      <th>4</th>\n",
       "      <td>5</td>\n",
       "      <td>L47184</td>\n",
       "      <td>298.2</td>\n",
       "      <td>308.7</td>\n",
       "      <td>1408</td>\n",
       "      <td>40.0</td>\n",
       "      <td>9</td>\n",
       "      <td>0</td>\n",
       "      <td>0</td>\n",
       "      <td>0</td>\n",
       "      <td>0</td>\n",
       "      <td>0</td>\n",
       "      <td>0</td>\n",
       "      <td>1</td>\n",
       "      <td>0</td>\n",
       "    </tr>\n",
       "  </tbody>\n",
       "</table>\n",
       "</div>"
      ],
      "text/plain": [
       "   UDI Product ID  Air temperature [K]  Process temperature [K]  \\\n",
       "0    1     M14860                298.1                    308.6   \n",
       "1    2     L47181                298.2                    308.7   \n",
       "2    3     L47182                298.1                    308.5   \n",
       "3    4     L47183                298.2                    308.6   \n",
       "4    5     L47184                298.2                    308.7   \n",
       "\n",
       "   Rotational speed [rpm]  Torque [Nm]  Tool wear [min]  Machine failure  TWF  \\\n",
       "0                    1551         42.8                0                0    0   \n",
       "1                    1408         46.3                3                0    0   \n",
       "2                    1498         49.4                5                0    0   \n",
       "3                    1433         39.5                7                0    0   \n",
       "4                    1408         40.0                9                0    0   \n",
       "\n",
       "   HDF  PWF  OSF  RNF  L  M  \n",
       "0    0    0    0    0  0  1  \n",
       "1    0    0    0    0  1  0  \n",
       "2    0    0    0    0  1  0  \n",
       "3    0    0    0    0  1  0  \n",
       "4    0    0    0    0  1  0  "
      ]
     },
     "execution_count": 6,
     "metadata": {},
     "output_type": "execute_result"
    }
   ],
   "source": [
    "cleaned_data.head()"
   ]
  },
  {
   "cell_type": "code",
   "execution_count": 7,
   "metadata": {},
   "outputs": [
    {
     "data": {
      "text/html": [
       "<div>\n",
       "<style scoped>\n",
       "    .dataframe tbody tr th:only-of-type {\n",
       "        vertical-align: middle;\n",
       "    }\n",
       "\n",
       "    .dataframe tbody tr th {\n",
       "        vertical-align: top;\n",
       "    }\n",
       "\n",
       "    .dataframe thead th {\n",
       "        text-align: right;\n",
       "    }\n",
       "</style>\n",
       "<table border=\"1\" class=\"dataframe\">\n",
       "  <thead>\n",
       "    <tr style=\"text-align: right;\">\n",
       "      <th></th>\n",
       "      <th>Machine failure</th>\n",
       "      <th>L</th>\n",
       "      <th>M</th>\n",
       "      <th>Air temperature [K]</th>\n",
       "      <th>Process temperature [K]</th>\n",
       "      <th>Rotational speed [rpm]</th>\n",
       "      <th>Torque [Nm]</th>\n",
       "      <th>Tool wear [min]</th>\n",
       "    </tr>\n",
       "  </thead>\n",
       "  <tbody>\n",
       "    <tr>\n",
       "      <th>Machine failure</th>\n",
       "      <td>1.000000</td>\n",
       "      <td>0.035643</td>\n",
       "      <td>-0.022432</td>\n",
       "      <td>0.082556</td>\n",
       "      <td>0.035946</td>\n",
       "      <td>-0.044188</td>\n",
       "      <td>0.191321</td>\n",
       "      <td>0.105448</td>\n",
       "    </tr>\n",
       "    <tr>\n",
       "      <th>L</th>\n",
       "      <td>0.035643</td>\n",
       "      <td>1.000000</td>\n",
       "      <td>-0.801211</td>\n",
       "      <td>0.006676</td>\n",
       "      <td>0.005564</td>\n",
       "      <td>0.004735</td>\n",
       "      <td>0.001191</td>\n",
       "      <td>0.008232</td>\n",
       "    </tr>\n",
       "    <tr>\n",
       "      <th>M</th>\n",
       "      <td>-0.022432</td>\n",
       "      <td>-0.801211</td>\n",
       "      <td>1.000000</td>\n",
       "      <td>0.007958</td>\n",
       "      <td>0.005831</td>\n",
       "      <td>-0.004296</td>\n",
       "      <td>0.001991</td>\n",
       "      <td>-0.006976</td>\n",
       "    </tr>\n",
       "    <tr>\n",
       "      <th>Air temperature [K]</th>\n",
       "      <td>0.082556</td>\n",
       "      <td>0.006676</td>\n",
       "      <td>0.007958</td>\n",
       "      <td>1.000000</td>\n",
       "      <td>0.876107</td>\n",
       "      <td>0.022670</td>\n",
       "      <td>-0.013778</td>\n",
       "      <td>0.013853</td>\n",
       "    </tr>\n",
       "    <tr>\n",
       "      <th>Process temperature [K]</th>\n",
       "      <td>0.035946</td>\n",
       "      <td>0.005564</td>\n",
       "      <td>0.005831</td>\n",
       "      <td>0.876107</td>\n",
       "      <td>1.000000</td>\n",
       "      <td>0.019277</td>\n",
       "      <td>-0.014061</td>\n",
       "      <td>0.013488</td>\n",
       "    </tr>\n",
       "    <tr>\n",
       "      <th>Rotational speed [rpm]</th>\n",
       "      <td>-0.044188</td>\n",
       "      <td>0.004735</td>\n",
       "      <td>-0.004296</td>\n",
       "      <td>0.022670</td>\n",
       "      <td>0.019277</td>\n",
       "      <td>1.000000</td>\n",
       "      <td>-0.875027</td>\n",
       "      <td>0.000223</td>\n",
       "    </tr>\n",
       "    <tr>\n",
       "      <th>Torque [Nm]</th>\n",
       "      <td>0.191321</td>\n",
       "      <td>0.001191</td>\n",
       "      <td>0.001991</td>\n",
       "      <td>-0.013778</td>\n",
       "      <td>-0.014061</td>\n",
       "      <td>-0.875027</td>\n",
       "      <td>1.000000</td>\n",
       "      <td>-0.003093</td>\n",
       "    </tr>\n",
       "    <tr>\n",
       "      <th>Tool wear [min]</th>\n",
       "      <td>0.105448</td>\n",
       "      <td>0.008232</td>\n",
       "      <td>-0.006976</td>\n",
       "      <td>0.013853</td>\n",
       "      <td>0.013488</td>\n",
       "      <td>0.000223</td>\n",
       "      <td>-0.003093</td>\n",
       "      <td>1.000000</td>\n",
       "    </tr>\n",
       "  </tbody>\n",
       "</table>\n",
       "</div>"
      ],
      "text/plain": [
       "                         Machine failure         L         M  \\\n",
       "Machine failure                 1.000000  0.035643 -0.022432   \n",
       "L                               0.035643  1.000000 -0.801211   \n",
       "M                              -0.022432 -0.801211  1.000000   \n",
       "Air temperature [K]             0.082556  0.006676  0.007958   \n",
       "Process temperature [K]         0.035946  0.005564  0.005831   \n",
       "Rotational speed [rpm]         -0.044188  0.004735 -0.004296   \n",
       "Torque [Nm]                     0.191321  0.001191  0.001991   \n",
       "Tool wear [min]                 0.105448  0.008232 -0.006976   \n",
       "\n",
       "                         Air temperature [K]  Process temperature [K]  \\\n",
       "Machine failure                     0.082556                 0.035946   \n",
       "L                                   0.006676                 0.005564   \n",
       "M                                   0.007958                 0.005831   \n",
       "Air temperature [K]                 1.000000                 0.876107   \n",
       "Process temperature [K]             0.876107                 1.000000   \n",
       "Rotational speed [rpm]              0.022670                 0.019277   \n",
       "Torque [Nm]                        -0.013778                -0.014061   \n",
       "Tool wear [min]                     0.013853                 0.013488   \n",
       "\n",
       "                         Rotational speed [rpm]  Torque [Nm]  Tool wear [min]  \n",
       "Machine failure                       -0.044188     0.191321         0.105448  \n",
       "L                                      0.004735     0.001191         0.008232  \n",
       "M                                     -0.004296     0.001991        -0.006976  \n",
       "Air temperature [K]                    0.022670    -0.013778         0.013853  \n",
       "Process temperature [K]                0.019277    -0.014061         0.013488  \n",
       "Rotational speed [rpm]                 1.000000    -0.875027         0.000223  \n",
       "Torque [Nm]                           -0.875027     1.000000        -0.003093  \n",
       "Tool wear [min]                        0.000223    -0.003093         1.000000  "
      ]
     },
     "execution_count": 7,
     "metadata": {},
     "output_type": "execute_result"
    }
   ],
   "source": [
    "cleaned_data[[\"Machine failure\", \"L\", \"M\", \"Air temperature [K]\",\n",
    "              \"Process temperature [K]\", \"Rotational speed [rpm]\",\n",
    "              \"Torque [Nm]\", \"Tool wear [min]\"]].corr()"
   ]
  },
  {
   "cell_type": "markdown",
   "metadata": {},
   "source": [
    "#### Creating Logistic Regression Model"
   ]
  },
  {
   "cell_type": "code",
   "execution_count": 8,
   "metadata": {},
   "outputs": [
    {
     "data": {
      "text/plain": [
       "Machine failure\n",
       "0    2428\n",
       "1      72\n",
       "Name: count, dtype: int64"
      ]
     },
     "execution_count": 8,
     "metadata": {},
     "output_type": "execute_result"
    }
   ],
   "source": [
    "log_model = LogisticRegression(max_iter=1000)\n",
    "kf = KFold(n_splits=5, shuffle=True, random_state=42)\n",
    "\n",
    "accuracy_scores = []\n",
    "precision_scores = []\n",
    "recall_scores = []\n",
    "\n",
    "X = cleaned_data[[\"L\", \"M\", \"Air temperature [K]\",\n",
    "                  \"Process temperature [K]\", \"Rotational speed [rpm]\",\n",
    "                  \"Torque [Nm]\", \"Tool wear [min]\"]]\n",
    "y = cleaned_data[\"Machine failure\"]\n",
    "\n",
    "X_train, X_test, y_train, y_test = train_test_split(X, y, test_size=0.25, random_state=42)\n",
    "y_test.value_counts()"
   ]
  },
  {
   "cell_type": "markdown",
   "metadata": {},
   "source": [
    "#### Training Model"
   ]
  },
  {
   "cell_type": "code",
   "execution_count": 9,
   "metadata": {},
   "outputs": [],
   "source": [
    "for train_set, val_set in kf.split(X_train):\n",
    "    X_train_split, y_train_split = X_train.iloc[train_set], y_train.iloc[train_set]\n",
    "    X_val_split, y_val_split = X_train.iloc[val_set], y_train.iloc[val_set]\n",
    "    log_model.fit(X_train_split, y_train_split)\n",
    "    model_predictions = log_model.predict(X_val_split)\n",
    "\n",
    "    accuracy_scores.append(accuracy_score(y_val_split, model_predictions))\n",
    "    precision_scores.append(precision_score(y_val_split, model_predictions))\n",
    "    recall_scores.append(recall_score(y_val_split, model_predictions))"
   ]
  },
  {
   "cell_type": "markdown",
   "metadata": {},
   "source": [
    "#### Assessing model's performance from splits"
   ]
  },
  {
   "cell_type": "code",
   "execution_count": 10,
   "metadata": {},
   "outputs": [
    {
     "name": "stdout",
     "output_type": "stream",
     "text": [
      "Average Accuracy Scores: 96.84000000000002\n",
      "Average Precision Scores: 70.77564102564102\n",
      "Average Recall Scores: 19.45721020966526\n"
     ]
    }
   ],
   "source": [
    "# The recall score is very low because the model is not able to predict the positive class\n",
    "# This makes sense as their is a huge class imbalance in the data\n",
    "print(f\"Average Accuracy Scores: {np.mean(accuracy_scores) * 100}\")\n",
    "print(f\"Average Precision Scores: {np.mean(precision_scores) * 100}\")\n",
    "print(f\"Average Recall Scores: {np.mean(recall_scores) * 100}\")"
   ]
  },
  {
   "cell_type": "code",
   "execution_count": 11,
   "metadata": {},
   "outputs": [
    {
     "data": {
      "text/plain": [
       "array([0.01615824, 0.02230078, 0.0121622 , ..., 0.00463296, 0.01985425,\n",
       "       0.01545302])"
      ]
     },
     "execution_count": 11,
     "metadata": {},
     "output_type": "execute_result"
    }
   ],
   "source": [
    "log_model.predict_proba(X_test)[:, 1]"
   ]
  },
  {
   "cell_type": "markdown",
   "metadata": {},
   "source": [
    "#### Using model"
   ]
  },
  {
   "cell_type": "code",
   "execution_count": 12,
   "metadata": {},
   "outputs": [],
   "source": [
    "machine_telemtry = pd.DataFrame({\n",
    "    \"L\": 1,\n",
    "    \"M\": 0,\n",
    "    \"Air temperature [K]\": 298.9,\n",
    "    \"Process temperature [K]\": 309.1,\n",
    "    \"Rotational speed [rpm]\": 2861,\n",
    "    \"Torque [Nm]\": 4.6,\n",
    "    \"Tool wear [min]\": 143\n",
    "}, index=[0])"
   ]
  },
  {
   "cell_type": "code",
   "execution_count": 13,
   "metadata": {},
   "outputs": [
    {
     "data": {
      "text/plain": [
       "array([1])"
      ]
     },
     "execution_count": 13,
     "metadata": {},
     "output_type": "execute_result"
    }
   ],
   "source": [
    "prediction = log_model.predict(machine_telemtry)\n",
    "prediction"
   ]
  },
  {
   "cell_type": "code",
   "execution_count": 14,
   "metadata": {},
   "outputs": [
    {
     "data": {
      "text/plain": [
       "array([[ 0.16068771, -0.09042323,  0.81885457, -0.90353228,  0.01129809,\n",
       "         0.26706364,  0.01401553]])"
      ]
     },
     "execution_count": 14,
     "metadata": {},
     "output_type": "execute_result"
    }
   ],
   "source": [
    "log_model.coef_"
   ]
  },
  {
   "cell_type": "code",
   "execution_count": 15,
   "metadata": {},
   "outputs": [
    {
     "data": {
      "text/plain": [
       "<sklearn.metrics._plot.confusion_matrix.ConfusionMatrixDisplay at 0x743453112110>"
      ]
     },
     "execution_count": 15,
     "metadata": {},
     "output_type": "execute_result"
    },
    {
     "data": {
      "image/png": "[encoded data removed]",
      "text/plain": [
       "<Figure size 640x480 with 2 Axes>"
      ]
     },
     "metadata": {},
     "output_type": "display_data"
    }
   ],
   "source": [
    "ConfusionMatrixDisplay.from_estimator(log_model, X, y)"
   ]
  }
 ],
 "metadata": {
  "kernelspec": {
   "display_name": "base",
   "language": "python",
   "name": "python3"
  },
  "language_info": {
   "codemirror_mode": {
    "name": "ipython",
    "version": 3
   },
   "file_extension": ".py",
   "mimetype": "text/x-python",
   "name": "python",
   "nbconvert_exporter": "python",
   "pygments_lexer": "ipython3",
   "version": "3.11.7"
  }
 },
 "nbformat": 4,
 "nbformat_minor": 2
}
