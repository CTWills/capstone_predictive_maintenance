{
 "cells": [
  {
   "cell_type": "markdown",
   "metadata": {},
   "source": [
    "# This model under samples the non failure metrics to account for the imbalance"
   ]
  },
  {
   "cell_type": "code",
   "execution_count": 1,
   "metadata": {},
   "outputs": [],
   "source": [
    "import pandas as pd\n",
    "import numpy as np\n",
    "import matplotlib.pyplot as plt\n",
    "from sklearn.linear_model import LogisticRegression\n",
    "from sklearn.model_selection import KFold, train_test_split\n",
    "from sklearn.metrics import (accuracy_score, \n",
    "                             precision_score, \n",
    "                             recall_score, \n",
    "                             confusion_matrix, \n",
    "                             ConfusionMatrixDisplay,\n",
    "                             f1_score,\n",
    "                             roc_curve,\n",
    "                             auc)\n",
    "from imblearn.under_sampling import RandomUnderSampler"
   ]
  },
  {
   "cell_type": "markdown",
   "metadata": {},
   "source": [
    "#### Loading initial data"
   ]
  },
  {
   "cell_type": "code",
   "execution_count": 2,
   "metadata": {},
   "outputs": [],
   "source": [
    "initial_data = pd.read_csv('../data/ai4i2020.csv')"
   ]
  },
  {
   "cell_type": "markdown",
   "metadata": {},
   "source": [
    "#### Random Undersampling performed"
   ]
  },
  {
   "cell_type": "code",
   "execution_count": 3,
   "metadata": {},
   "outputs": [
    {
     "data": {
      "text/html": [
       "<div>\n",
       "<style scoped>\n",
       "    .dataframe tbody tr th:only-of-type {\n",
       "        vertical-align: middle;\n",
       "    }\n",
       "\n",
       "    .dataframe tbody tr th {\n",
       "        vertical-align: top;\n",
       "    }\n",
       "\n",
       "    .dataframe thead th {\n",
       "        text-align: right;\n",
       "    }\n",
       "</style>\n",
       "<table border=\"1\" class=\"dataframe\">\n",
       "  <thead>\n",
       "    <tr style=\"text-align: right;\">\n",
       "      <th></th>\n",
       "      <th>UDI</th>\n",
       "      <th>Product ID</th>\n",
       "      <th>Type</th>\n",
       "      <th>Air temperature [K]</th>\n",
       "      <th>Process temperature [K]</th>\n",
       "      <th>Rotational speed [rpm]</th>\n",
       "      <th>Torque [Nm]</th>\n",
       "      <th>Tool wear [min]</th>\n",
       "      <th>Machine failure</th>\n",
       "      <th>TWF</th>\n",
       "      <th>HDF</th>\n",
       "      <th>PWF</th>\n",
       "      <th>OSF</th>\n",
       "      <th>RNF</th>\n",
       "    </tr>\n",
       "  </thead>\n",
       "  <tbody>\n",
       "    <tr>\n",
       "      <th>0</th>\n",
       "      <td>1</td>\n",
       "      <td>M14860</td>\n",
       "      <td>M</td>\n",
       "      <td>298.1</td>\n",
       "      <td>308.6</td>\n",
       "      <td>1551</td>\n",
       "      <td>42.8</td>\n",
       "      <td>0</td>\n",
       "      <td>0</td>\n",
       "      <td>0</td>\n",
       "      <td>0</td>\n",
       "      <td>0</td>\n",
       "      <td>0</td>\n",
       "      <td>0</td>\n",
       "    </tr>\n",
       "    <tr>\n",
       "      <th>1</th>\n",
       "      <td>2</td>\n",
       "      <td>L47181</td>\n",
       "      <td>L</td>\n",
       "      <td>298.2</td>\n",
       "      <td>308.7</td>\n",
       "      <td>1408</td>\n",
       "      <td>46.3</td>\n",
       "      <td>3</td>\n",
       "      <td>0</td>\n",
       "      <td>0</td>\n",
       "      <td>0</td>\n",
       "      <td>0</td>\n",
       "      <td>0</td>\n",
       "      <td>0</td>\n",
       "    </tr>\n",
       "    <tr>\n",
       "      <th>2</th>\n",
       "      <td>3</td>\n",
       "      <td>L47182</td>\n",
       "      <td>L</td>\n",
       "      <td>298.1</td>\n",
       "      <td>308.5</td>\n",
       "      <td>1498</td>\n",
       "      <td>49.4</td>\n",
       "      <td>5</td>\n",
       "      <td>0</td>\n",
       "      <td>0</td>\n",
       "      <td>0</td>\n",
       "      <td>0</td>\n",
       "      <td>0</td>\n",
       "      <td>0</td>\n",
       "    </tr>\n",
       "    <tr>\n",
       "      <th>3</th>\n",
       "      <td>4</td>\n",
       "      <td>L47183</td>\n",
       "      <td>L</td>\n",
       "      <td>298.2</td>\n",
       "      <td>308.6</td>\n",
       "      <td>1433</td>\n",
       "      <td>39.5</td>\n",
       "      <td>7</td>\n",
       "      <td>0</td>\n",
       "      <td>0</td>\n",
       "      <td>0</td>\n",
       "      <td>0</td>\n",
       "      <td>0</td>\n",
       "      <td>0</td>\n",
       "    </tr>\n",
       "    <tr>\n",
       "      <th>4</th>\n",
       "      <td>5</td>\n",
       "      <td>L47184</td>\n",
       "      <td>L</td>\n",
       "      <td>298.2</td>\n",
       "      <td>308.7</td>\n",
       "      <td>1408</td>\n",
       "      <td>40.0</td>\n",
       "      <td>9</td>\n",
       "      <td>0</td>\n",
       "      <td>0</td>\n",
       "      <td>0</td>\n",
       "      <td>0</td>\n",
       "      <td>0</td>\n",
       "      <td>0</td>\n",
       "    </tr>\n",
       "  </tbody>\n",
       "</table>\n",
       "</div>"
      ],
      "text/plain": [
       "   UDI Product ID Type  Air temperature [K]  Process temperature [K]  \\\n",
       "0    1     M14860    M                298.1                    308.6   \n",
       "1    2     L47181    L                298.2                    308.7   \n",
       "2    3     L47182    L                298.1                    308.5   \n",
       "3    4     L47183    L                298.2                    308.6   \n",
       "4    5     L47184    L                298.2                    308.7   \n",
       "\n",
       "   Rotational speed [rpm]  Torque [Nm]  Tool wear [min]  Machine failure  TWF  \\\n",
       "0                    1551         42.8                0                0    0   \n",
       "1                    1408         46.3                3                0    0   \n",
       "2                    1498         49.4                5                0    0   \n",
       "3                    1433         39.5                7                0    0   \n",
       "4                    1408         40.0                9                0    0   \n",
       "\n",
       "   HDF  PWF  OSF  RNF  \n",
       "0    0    0    0    0  \n",
       "1    0    0    0    0  \n",
       "2    0    0    0    0  \n",
       "3    0    0    0    0  \n",
       "4    0    0    0    0  "
      ]
     },
     "execution_count": 3,
     "metadata": {},
     "output_type": "execute_result"
    }
   ],
   "source": [
    "# Get all non failed rows\n",
    "non_failures = initial_data[initial_data['Machine failure'] == 0]\n",
    "non_failures.head()"
   ]
  },
  {
   "cell_type": "code",
   "execution_count": 4,
   "metadata": {},
   "outputs": [
    {
     "name": "stdout",
     "output_type": "stream",
     "text": [
      "339\n"
     ]
    },
    {
     "data": {
      "text/plain": [
       "Machine failure\n",
       "1    339\n",
       "Name: count, dtype: int64"
      ]
     },
     "execution_count": 4,
     "metadata": {},
     "output_type": "execute_result"
    }
   ],
   "source": [
    "# Get all failed rows\n",
    "failures = initial_data[initial_data['Machine failure'] == 1]\n",
    "amnt_failures = len(failures)\n",
    "print(amnt_failures)\n",
    "failures[\"Machine failure\"].value_counts()"
   ]
  },
  {
   "cell_type": "code",
   "execution_count": 5,
   "metadata": {},
   "outputs": [
    {
     "name": "stdout",
     "output_type": "stream",
     "text": [
      "339\n"
     ]
    },
    {
     "data": {
      "text/plain": [
       "Machine failure\n",
       "0    339\n",
       "Name: count, dtype: int64"
      ]
     },
     "execution_count": 5,
     "metadata": {},
     "output_type": "execute_result"
    }
   ],
   "source": [
    "# Get a random sample of non failures with the same size as amount of failures\n",
    "undersampled_data = non_failures.sample(n=amnt_failures, replace=False)\n",
    "print(len(undersampled_data))\n",
    "undersampled_data[\"Machine failure\"].value_counts()"
   ]
  },
  {
   "cell_type": "code",
   "execution_count": 6,
   "metadata": {},
   "outputs": [],
   "source": [
    "# Create final dataframe for model to use\n",
    "undersampled_data = pd.concat([undersampled_data, failures])\n"
   ]
  },
  {
   "cell_type": "code",
   "execution_count": 7,
   "metadata": {},
   "outputs": [
    {
     "data": {
      "text/plain": [
       "Machine failure\n",
       "0    339\n",
       "1    339\n",
       "Name: count, dtype: int64"
      ]
     },
     "execution_count": 7,
     "metadata": {},
     "output_type": "execute_result"
    }
   ],
   "source": [
    "# View the distribution of the data\n",
    "undersampled_data[\"Machine failure\"].value_counts()"
   ]
  },
  {
   "cell_type": "markdown",
   "metadata": {},
   "source": [
    "#### Random undersampling with Imblearn"
   ]
  },
  {
   "cell_type": "code",
   "execution_count": 8,
   "metadata": {},
   "outputs": [],
   "source": [
    "rus = RandomUnderSampler(random_state=42, replacement=True)"
   ]
  },
  {
   "cell_type": "code",
   "execution_count": 9,
   "metadata": {},
   "outputs": [],
   "source": [
    "X_resample = initial_data.drop(\n",
    "    columns=[\"Machine failure\"])\n",
    "y_resample = initial_data[\"Machine failure\"]\n",
    "x_rus, y_rus = rus.fit_resample(X_resample, y_resample)\n"
   ]
  },
  {
   "cell_type": "code",
   "execution_count": 10,
   "metadata": {},
   "outputs": [],
   "source": [
    "rus_undersampled_data = pd.concat([x_rus, y_rus], axis=1)"
   ]
  },
  {
   "cell_type": "markdown",
   "metadata": {},
   "source": [
    "#### Convering Type column into binary values for model preperation"
   ]
  },
  {
   "cell_type": "code",
   "execution_count": 11,
   "metadata": {},
   "outputs": [],
   "source": [
    "dummy = pd.get_dummies(undersampled_data['Type'], dtype=int, drop_first=True)\n",
    "rs_dummy = pd.get_dummies(\n",
    "    rus_undersampled_data['Type'], dtype=int, drop_first=True)"
   ]
  },
  {
   "cell_type": "code",
   "execution_count": 12,
   "metadata": {},
   "outputs": [],
   "source": [
    "cleaned_data = pd.concat([undersampled_data, dummy], axis=1)\n",
    "rs_cleaned = pd.concat([rus_undersampled_data, rs_dummy], axis=1)"
   ]
  },
  {
   "cell_type": "code",
   "execution_count": 13,
   "metadata": {},
   "outputs": [],
   "source": [
    "cleaned_data.drop(columns=[\"Type\", \"Product ID\", \"UDI\", \"TWF\", \"HDF\", \"PWF\", \"OSF\", \"RNF\"], inplace=True)\n",
    "rs_cleaned.drop(columns=[\"Type\", \"Product ID\", \"UDI\",\n",
    "                  \"TWF\", \"HDF\", \"PWF\", \"OSF\", \"RNF\"], inplace=True)"
   ]
  },
  {
   "cell_type": "code",
   "execution_count": 14,
   "metadata": {},
   "outputs": [
    {
     "data": {
      "text/html": [
       "<div>\n",
       "<style scoped>\n",
       "    .dataframe tbody tr th:only-of-type {\n",
       "        vertical-align: middle;\n",
       "    }\n",
       "\n",
       "    .dataframe tbody tr th {\n",
       "        vertical-align: top;\n",
       "    }\n",
       "\n",
       "    .dataframe thead th {\n",
       "        text-align: right;\n",
       "    }\n",
       "</style>\n",
       "<table border=\"1\" class=\"dataframe\">\n",
       "  <thead>\n",
       "    <tr style=\"text-align: right;\">\n",
       "      <th></th>\n",
       "      <th>Air temperature [K]</th>\n",
       "      <th>Process temperature [K]</th>\n",
       "      <th>Rotational speed [rpm]</th>\n",
       "      <th>Torque [Nm]</th>\n",
       "      <th>Tool wear [min]</th>\n",
       "      <th>Machine failure</th>\n",
       "      <th>L</th>\n",
       "      <th>M</th>\n",
       "    </tr>\n",
       "  </thead>\n",
       "  <tbody>\n",
       "    <tr>\n",
       "      <th>9726</th>\n",
       "      <td>298.8</td>\n",
       "      <td>309.8</td>\n",
       "      <td>1557</td>\n",
       "      <td>37.2</td>\n",
       "      <td>139</td>\n",
       "      <td>0</td>\n",
       "      <td>1</td>\n",
       "      <td>0</td>\n",
       "    </tr>\n",
       "    <tr>\n",
       "      <th>7342</th>\n",
       "      <td>299.7</td>\n",
       "      <td>310.3</td>\n",
       "      <td>1661</td>\n",
       "      <td>34.5</td>\n",
       "      <td>6</td>\n",
       "      <td>0</td>\n",
       "      <td>0</td>\n",
       "      <td>1</td>\n",
       "    </tr>\n",
       "    <tr>\n",
       "      <th>8075</th>\n",
       "      <td>300.4</td>\n",
       "      <td>312.0</td>\n",
       "      <td>1366</td>\n",
       "      <td>43.0</td>\n",
       "      <td>117</td>\n",
       "      <td>0</td>\n",
       "      <td>1</td>\n",
       "      <td>0</td>\n",
       "    </tr>\n",
       "    <tr>\n",
       "      <th>4530</th>\n",
       "      <td>302.5</td>\n",
       "      <td>310.4</td>\n",
       "      <td>1487</td>\n",
       "      <td>42.0</td>\n",
       "      <td>152</td>\n",
       "      <td>0</td>\n",
       "      <td>1</td>\n",
       "      <td>0</td>\n",
       "    </tr>\n",
       "    <tr>\n",
       "      <th>5877</th>\n",
       "      <td>301.5</td>\n",
       "      <td>311.1</td>\n",
       "      <td>1458</td>\n",
       "      <td>41.4</td>\n",
       "      <td>123</td>\n",
       "      <td>0</td>\n",
       "      <td>1</td>\n",
       "      <td>0</td>\n",
       "    </tr>\n",
       "  </tbody>\n",
       "</table>\n",
       "</div>"
      ],
      "text/plain": [
       "      Air temperature [K]  Process temperature [K]  Rotational speed [rpm]  \\\n",
       "9726                298.8                    309.8                    1557   \n",
       "7342                299.7                    310.3                    1661   \n",
       "8075                300.4                    312.0                    1366   \n",
       "4530                302.5                    310.4                    1487   \n",
       "5877                301.5                    311.1                    1458   \n",
       "\n",
       "      Torque [Nm]  Tool wear [min]  Machine failure  L  M  \n",
       "9726         37.2              139                0  1  0  \n",
       "7342         34.5                6                0  0  1  \n",
       "8075         43.0              117                0  1  0  \n",
       "4530         42.0              152                0  1  0  \n",
       "5877         41.4              123                0  1  0  "
      ]
     },
     "execution_count": 14,
     "metadata": {},
     "output_type": "execute_result"
    }
   ],
   "source": [
    "cleaned_data.head()"
   ]
  },
  {
   "cell_type": "code",
   "execution_count": 15,
   "metadata": {},
   "outputs": [
    {
     "data": {
      "text/html": [
       "<div>\n",
       "<style scoped>\n",
       "    .dataframe tbody tr th:only-of-type {\n",
       "        vertical-align: middle;\n",
       "    }\n",
       "\n",
       "    .dataframe tbody tr th {\n",
       "        vertical-align: top;\n",
       "    }\n",
       "\n",
       "    .dataframe thead th {\n",
       "        text-align: right;\n",
       "    }\n",
       "</style>\n",
       "<table border=\"1\" class=\"dataframe\">\n",
       "  <thead>\n",
       "    <tr style=\"text-align: right;\">\n",
       "      <th></th>\n",
       "      <th>Air temperature [K]</th>\n",
       "      <th>Process temperature [K]</th>\n",
       "      <th>Rotational speed [rpm]</th>\n",
       "      <th>Torque [Nm]</th>\n",
       "      <th>Tool wear [min]</th>\n",
       "      <th>L</th>\n",
       "      <th>M</th>\n",
       "    </tr>\n",
       "  </thead>\n",
       "  <tbody>\n",
       "    <tr>\n",
       "      <th>9726</th>\n",
       "      <td>298.8</td>\n",
       "      <td>309.8</td>\n",
       "      <td>1557</td>\n",
       "      <td>37.2</td>\n",
       "      <td>139</td>\n",
       "      <td>1</td>\n",
       "      <td>0</td>\n",
       "    </tr>\n",
       "    <tr>\n",
       "      <th>7342</th>\n",
       "      <td>299.7</td>\n",
       "      <td>310.3</td>\n",
       "      <td>1661</td>\n",
       "      <td>34.5</td>\n",
       "      <td>6</td>\n",
       "      <td>0</td>\n",
       "      <td>1</td>\n",
       "    </tr>\n",
       "    <tr>\n",
       "      <th>8075</th>\n",
       "      <td>300.4</td>\n",
       "      <td>312.0</td>\n",
       "      <td>1366</td>\n",
       "      <td>43.0</td>\n",
       "      <td>117</td>\n",
       "      <td>1</td>\n",
       "      <td>0</td>\n",
       "    </tr>\n",
       "    <tr>\n",
       "      <th>4530</th>\n",
       "      <td>302.5</td>\n",
       "      <td>310.4</td>\n",
       "      <td>1487</td>\n",
       "      <td>42.0</td>\n",
       "      <td>152</td>\n",
       "      <td>1</td>\n",
       "      <td>0</td>\n",
       "    </tr>\n",
       "    <tr>\n",
       "      <th>5877</th>\n",
       "      <td>301.5</td>\n",
       "      <td>311.1</td>\n",
       "      <td>1458</td>\n",
       "      <td>41.4</td>\n",
       "      <td>123</td>\n",
       "      <td>1</td>\n",
       "      <td>0</td>\n",
       "    </tr>\n",
       "    <tr>\n",
       "      <th>...</th>\n",
       "      <td>...</td>\n",
       "      <td>...</td>\n",
       "      <td>...</td>\n",
       "      <td>...</td>\n",
       "      <td>...</td>\n",
       "      <td>...</td>\n",
       "      <td>...</td>\n",
       "    </tr>\n",
       "    <tr>\n",
       "      <th>9758</th>\n",
       "      <td>298.6</td>\n",
       "      <td>309.8</td>\n",
       "      <td>2271</td>\n",
       "      <td>16.2</td>\n",
       "      <td>218</td>\n",
       "      <td>1</td>\n",
       "      <td>0</td>\n",
       "    </tr>\n",
       "    <tr>\n",
       "      <th>9764</th>\n",
       "      <td>298.5</td>\n",
       "      <td>309.5</td>\n",
       "      <td>1294</td>\n",
       "      <td>66.7</td>\n",
       "      <td>12</td>\n",
       "      <td>1</td>\n",
       "      <td>0</td>\n",
       "    </tr>\n",
       "    <tr>\n",
       "      <th>9822</th>\n",
       "      <td>298.5</td>\n",
       "      <td>309.4</td>\n",
       "      <td>1360</td>\n",
       "      <td>60.9</td>\n",
       "      <td>187</td>\n",
       "      <td>1</td>\n",
       "      <td>0</td>\n",
       "    </tr>\n",
       "    <tr>\n",
       "      <th>9830</th>\n",
       "      <td>298.3</td>\n",
       "      <td>309.3</td>\n",
       "      <td>1337</td>\n",
       "      <td>56.1</td>\n",
       "      <td>206</td>\n",
       "      <td>1</td>\n",
       "      <td>0</td>\n",
       "    </tr>\n",
       "    <tr>\n",
       "      <th>9974</th>\n",
       "      <td>298.6</td>\n",
       "      <td>308.2</td>\n",
       "      <td>1361</td>\n",
       "      <td>68.2</td>\n",
       "      <td>172</td>\n",
       "      <td>1</td>\n",
       "      <td>0</td>\n",
       "    </tr>\n",
       "  </tbody>\n",
       "</table>\n",
       "<p>678 rows × 7 columns</p>\n",
       "</div>"
      ],
      "text/plain": [
       "      Air temperature [K]  Process temperature [K]  Rotational speed [rpm]  \\\n",
       "9726                298.8                    309.8                    1557   \n",
       "7342                299.7                    310.3                    1661   \n",
       "8075                300.4                    312.0                    1366   \n",
       "4530                302.5                    310.4                    1487   \n",
       "5877                301.5                    311.1                    1458   \n",
       "...                   ...                      ...                     ...   \n",
       "9758                298.6                    309.8                    2271   \n",
       "9764                298.5                    309.5                    1294   \n",
       "9822                298.5                    309.4                    1360   \n",
       "9830                298.3                    309.3                    1337   \n",
       "9974                298.6                    308.2                    1361   \n",
       "\n",
       "      Torque [Nm]  Tool wear [min]  L  M  \n",
       "9726         37.2              139  1  0  \n",
       "7342         34.5                6  0  1  \n",
       "8075         43.0              117  1  0  \n",
       "4530         42.0              152  1  0  \n",
       "5877         41.4              123  1  0  \n",
       "...           ...              ... .. ..  \n",
       "9758         16.2              218  1  0  \n",
       "9764         66.7               12  1  0  \n",
       "9822         60.9              187  1  0  \n",
       "9830         56.1              206  1  0  \n",
       "9974         68.2              172  1  0  \n",
       "\n",
       "[678 rows x 7 columns]"
      ]
     },
     "execution_count": 15,
     "metadata": {},
     "output_type": "execute_result"
    }
   ],
   "source": [
    "X = cleaned_data.drop(columns=[\"Machine failure\"])\n",
    "X"
   ]
  },
  {
   "cell_type": "code",
   "execution_count": 16,
   "metadata": {},
   "outputs": [
    {
     "data": {
      "text/plain": [
       "Machine failure\n",
       "0    339\n",
       "1    339\n",
       "Name: count, dtype: int64"
      ]
     },
     "execution_count": 16,
     "metadata": {},
     "output_type": "execute_result"
    }
   ],
   "source": [
    "y = cleaned_data[\"Machine failure\"]\n",
    "y.value_counts()"
   ]
  },
  {
   "cell_type": "code",
   "execution_count": 17,
   "metadata": {},
   "outputs": [
    {
     "data": {
      "text/html": [
       "<div>\n",
       "<style scoped>\n",
       "    .dataframe tbody tr th:only-of-type {\n",
       "        vertical-align: middle;\n",
       "    }\n",
       "\n",
       "    .dataframe tbody tr th {\n",
       "        vertical-align: top;\n",
       "    }\n",
       "\n",
       "    .dataframe thead th {\n",
       "        text-align: right;\n",
       "    }\n",
       "</style>\n",
       "<table border=\"1\" class=\"dataframe\">\n",
       "  <thead>\n",
       "    <tr style=\"text-align: right;\">\n",
       "      <th></th>\n",
       "      <th>Air temperature [K]</th>\n",
       "      <th>Process temperature [K]</th>\n",
       "      <th>Rotational speed [rpm]</th>\n",
       "      <th>Torque [Nm]</th>\n",
       "      <th>Tool wear [min]</th>\n",
       "      <th>Machine failure</th>\n",
       "      <th>L</th>\n",
       "      <th>M</th>\n",
       "    </tr>\n",
       "  </thead>\n",
       "  <tbody>\n",
       "    <tr>\n",
       "      <th>7557</th>\n",
       "      <td>300.4</td>\n",
       "      <td>311.5</td>\n",
       "      <td>1750</td>\n",
       "      <td>27.3</td>\n",
       "      <td>116</td>\n",
       "      <td>0</td>\n",
       "      <td>0</td>\n",
       "      <td>1</td>\n",
       "    </tr>\n",
       "    <tr>\n",
       "      <th>881</th>\n",
       "      <td>295.7</td>\n",
       "      <td>306.2</td>\n",
       "      <td>1464</td>\n",
       "      <td>46.2</td>\n",
       "      <td>92</td>\n",
       "      <td>0</td>\n",
       "      <td>1</td>\n",
       "      <td>0</td>\n",
       "    </tr>\n",
       "    <tr>\n",
       "      <th>5640</th>\n",
       "      <td>302.6</td>\n",
       "      <td>312.1</td>\n",
       "      <td>1420</td>\n",
       "      <td>51.6</td>\n",
       "      <td>182</td>\n",
       "      <td>0</td>\n",
       "      <td>1</td>\n",
       "      <td>0</td>\n",
       "    </tr>\n",
       "    <tr>\n",
       "      <th>5436</th>\n",
       "      <td>302.9</td>\n",
       "      <td>312.5</td>\n",
       "      <td>1679</td>\n",
       "      <td>30.9</td>\n",
       "      <td>79</td>\n",
       "      <td>0</td>\n",
       "      <td>0</td>\n",
       "      <td>1</td>\n",
       "    </tr>\n",
       "    <tr>\n",
       "      <th>5988</th>\n",
       "      <td>300.7</td>\n",
       "      <td>310.8</td>\n",
       "      <td>1296</td>\n",
       "      <td>58.2</td>\n",
       "      <td>204</td>\n",
       "      <td>0</td>\n",
       "      <td>0</td>\n",
       "      <td>0</td>\n",
       "    </tr>\n",
       "  </tbody>\n",
       "</table>\n",
       "</div>"
      ],
      "text/plain": [
       "      Air temperature [K]  Process temperature [K]  Rotational speed [rpm]  \\\n",
       "7557                300.4                    311.5                    1750   \n",
       "881                 295.7                    306.2                    1464   \n",
       "5640                302.6                    312.1                    1420   \n",
       "5436                302.9                    312.5                    1679   \n",
       "5988                300.7                    310.8                    1296   \n",
       "\n",
       "      Torque [Nm]  Tool wear [min]  Machine failure  L  M  \n",
       "7557         27.3              116                0  0  1  \n",
       "881          46.2               92                0  1  0  \n",
       "5640         51.6              182                0  1  0  \n",
       "5436         30.9               79                0  0  1  \n",
       "5988         58.2              204                0  0  0  "
      ]
     },
     "execution_count": 17,
     "metadata": {},
     "output_type": "execute_result"
    }
   ],
   "source": [
    "rs_cleaned.head()"
   ]
  },
  {
   "cell_type": "code",
   "execution_count": 18,
   "metadata": {},
   "outputs": [
    {
     "data": {
      "text/html": [
       "<div>\n",
       "<style scoped>\n",
       "    .dataframe tbody tr th:only-of-type {\n",
       "        vertical-align: middle;\n",
       "    }\n",
       "\n",
       "    .dataframe tbody tr th {\n",
       "        vertical-align: top;\n",
       "    }\n",
       "\n",
       "    .dataframe thead th {\n",
       "        text-align: right;\n",
       "    }\n",
       "</style>\n",
       "<table border=\"1\" class=\"dataframe\">\n",
       "  <thead>\n",
       "    <tr style=\"text-align: right;\">\n",
       "      <th></th>\n",
       "      <th>Air temperature [K]</th>\n",
       "      <th>Process temperature [K]</th>\n",
       "      <th>Rotational speed [rpm]</th>\n",
       "      <th>Torque [Nm]</th>\n",
       "      <th>Tool wear [min]</th>\n",
       "      <th>L</th>\n",
       "      <th>M</th>\n",
       "    </tr>\n",
       "  </thead>\n",
       "  <tbody>\n",
       "    <tr>\n",
       "      <th>7557</th>\n",
       "      <td>300.4</td>\n",
       "      <td>311.5</td>\n",
       "      <td>1750</td>\n",
       "      <td>27.3</td>\n",
       "      <td>116</td>\n",
       "      <td>0</td>\n",
       "      <td>1</td>\n",
       "    </tr>\n",
       "    <tr>\n",
       "      <th>881</th>\n",
       "      <td>295.7</td>\n",
       "      <td>306.2</td>\n",
       "      <td>1464</td>\n",
       "      <td>46.2</td>\n",
       "      <td>92</td>\n",
       "      <td>1</td>\n",
       "      <td>0</td>\n",
       "    </tr>\n",
       "    <tr>\n",
       "      <th>5640</th>\n",
       "      <td>302.6</td>\n",
       "      <td>312.1</td>\n",
       "      <td>1420</td>\n",
       "      <td>51.6</td>\n",
       "      <td>182</td>\n",
       "      <td>1</td>\n",
       "      <td>0</td>\n",
       "    </tr>\n",
       "    <tr>\n",
       "      <th>5436</th>\n",
       "      <td>302.9</td>\n",
       "      <td>312.5</td>\n",
       "      <td>1679</td>\n",
       "      <td>30.9</td>\n",
       "      <td>79</td>\n",
       "      <td>0</td>\n",
       "      <td>1</td>\n",
       "    </tr>\n",
       "    <tr>\n",
       "      <th>5988</th>\n",
       "      <td>300.7</td>\n",
       "      <td>310.8</td>\n",
       "      <td>1296</td>\n",
       "      <td>58.2</td>\n",
       "      <td>204</td>\n",
       "      <td>0</td>\n",
       "      <td>0</td>\n",
       "    </tr>\n",
       "  </tbody>\n",
       "</table>\n",
       "</div>"
      ],
      "text/plain": [
       "      Air temperature [K]  Process temperature [K]  Rotational speed [rpm]  \\\n",
       "7557                300.4                    311.5                    1750   \n",
       "881                 295.7                    306.2                    1464   \n",
       "5640                302.6                    312.1                    1420   \n",
       "5436                302.9                    312.5                    1679   \n",
       "5988                300.7                    310.8                    1296   \n",
       "\n",
       "      Torque [Nm]  Tool wear [min]  L  M  \n",
       "7557         27.3              116  0  1  \n",
       "881          46.2               92  1  0  \n",
       "5640         51.6              182  1  0  \n",
       "5436         30.9               79  0  1  \n",
       "5988         58.2              204  0  0  "
      ]
     },
     "execution_count": 18,
     "metadata": {},
     "output_type": "execute_result"
    }
   ],
   "source": [
    "X_rs = rs_cleaned.drop(columns=[\"Machine failure\"])\n",
    "X_rs.head()"
   ]
  },
  {
   "cell_type": "code",
   "execution_count": 19,
   "metadata": {},
   "outputs": [
    {
     "data": {
      "text/plain": [
       "Machine failure\n",
       "0    339\n",
       "1    339\n",
       "Name: count, dtype: int64"
      ]
     },
     "execution_count": 19,
     "metadata": {},
     "output_type": "execute_result"
    }
   ],
   "source": [
    "y_rs = rs_cleaned[\"Machine failure\"]\n",
    "y_rs.value_counts()"
   ]
  },
  {
   "cell_type": "markdown",
   "metadata": {},
   "source": [
    "#### Creating Logistic Regression Model with random undersamples"
   ]
  },
  {
   "cell_type": "code",
   "execution_count": 20,
   "metadata": {},
   "outputs": [
    {
     "data": {
      "text/plain": [
       "Machine failure\n",
       "0    95\n",
       "1    75\n",
       "Name: count, dtype: int64"
      ]
     },
     "execution_count": 20,
     "metadata": {},
     "output_type": "execute_result"
    }
   ],
   "source": [
    "log_model = LogisticRegression(max_iter=1000)\n",
    "kf = KFold(n_splits=5, shuffle=True, random_state=42)\n",
    "\n",
    "accuracy_scores = []\n",
    "precision_scores = []\n",
    "recall_scores = []\n",
    "f1_scores = []\n",
    "\n",
    "X_train, X_test, y_train, y_test = train_test_split(\n",
    "    X, y, test_size=0.25, random_state=42)\n",
    "\n",
    "y_test.value_counts()"
   ]
  },
  {
   "cell_type": "code",
   "execution_count": 21,
   "metadata": {},
   "outputs": [
    {
     "data": {
      "text/plain": [
       "Machine failure\n",
       "0    95\n",
       "1    75\n",
       "Name: count, dtype: int64"
      ]
     },
     "execution_count": 21,
     "metadata": {},
     "output_type": "execute_result"
    }
   ],
   "source": [
    "rs_log_model = LogisticRegression(max_iter=1000)\n",
    "rs_kf = KFold(n_splits=5, shuffle=True, random_state=42)\n",
    "\n",
    "rs_accuracy_scores = []\n",
    "rs_precision_scores = []\n",
    "rs_recall_scores = []\n",
    "rs_f1_scores = []\n",
    "\n",
    "RSX_train, RSX_test, rsy_train, rsy_test = train_test_split(\n",
    "    X_rs, y_rs, test_size=0.25, random_state=42)\n",
    "\n",
    "rsy_test.value_counts()"
   ]
  },
  {
   "cell_type": "markdown",
   "metadata": {},
   "source": [
    "#### Training Models\n"
   ]
  },
  {
   "cell_type": "code",
   "execution_count": 22,
   "metadata": {},
   "outputs": [],
   "source": [
    "# Random undersampled data\n",
    "for train_set, val_set in kf.split(X_train):\n",
    "    X_train_split, y_train_split = X_train.iloc[train_set], y_train.iloc[train_set]\n",
    "    X_val_split, y_val_split = X_train.iloc[val_set], y_train.iloc[val_set]\n",
    "    log_model.fit(X_train_split, y_train_split)\n",
    "    model_predictions = log_model.predict(X_val_split)\n",
    "\n",
    "    accuracy_scores.append(accuracy_score(y_val_split, model_predictions))\n",
    "    precision_scores.append(precision_score(\n",
    "        y_val_split, model_predictions))\n",
    "    recall_scores.append(recall_score(y_val_split, model_predictions))\n",
    "    f1_scores.append(f1_score(y_val_split, model_predictions))"
   ]
  },
  {
   "cell_type": "code",
   "execution_count": 23,
   "metadata": {},
   "outputs": [],
   "source": [
    "# Random undersampled data using imblearn\n",
    "for train_set, val_set in rs_kf.split(RSX_train):\n",
    "    X_train_split, y_train_split = RSX_train.iloc[train_set], rsy_train.iloc[train_set]\n",
    "    X_val_split, y_val_split = RSX_train.iloc[val_set], rsy_train.iloc[val_set]\n",
    "    log_model.fit(X_train_split, y_train_split)\n",
    "    model_predictions = log_model.predict(X_val_split)\n",
    "\n",
    "    rs_accuracy_scores.append(accuracy_score(y_val_split, model_predictions))\n",
    "    rs_precision_scores.append(precision_score(\n",
    "        y_val_split, model_predictions))\n",
    "    rs_recall_scores.append(recall_score(y_val_split, model_predictions))\n",
    "    rs_f1_scores.append(f1_score(y_val_split, model_predictions))"
   ]
  },
  {
   "cell_type": "markdown",
   "metadata": {},
   "source": [
    "#### Assessing model's performance from splits"
   ]
  },
  {
   "cell_type": "code",
   "execution_count": 24,
   "metadata": {},
   "outputs": [
    {
     "name": "stdout",
     "output_type": "stream",
     "text": [
      "Average Accuracy Score: 79.91457969326345\n",
      "Average Precision Score: 80.88702788147849\n",
      "Average Recall Score: 80.60422172322393\n",
      "Average F1 Score: 80.5478908493238\n"
     ]
    }
   ],
   "source": [
    "# Scores not using imblearn's library\n",
    "print(f\"Average Accuracy Score: {np.mean(accuracy_scores) * 100}\")\n",
    "print(f\"Average Precision Score: {np.mean(precision_scores) * 100}\")\n",
    "print(f\"Average Recall Score: {np.mean(recall_scores) * 100}\")\n",
    "print(f\"Average F1 Score: {np.mean(f1_scores) * 100}\")"
   ]
  },
  {
   "cell_type": "code",
   "execution_count": 25,
   "metadata": {},
   "outputs": [
    {
     "name": "stdout",
     "output_type": "stream",
     "text": [
      "Average RS Accuracy Score: 83.661424966026\n",
      "Average RS Precision Score: 85.28112745098039\n",
      "Average RS Recall Score: 83.9806882718108\n",
      "Average RS F1 Score: 84.22888689456364\n"
     ]
    }
   ],
   "source": [
    "# Scores using imblearn's library\n",
    "print(f\"Average RS Accuracy Score: {np.mean(rs_accuracy_scores) * 100}\")\n",
    "print(f\"Average RS Precision Score: {np.mean(rs_precision_scores) * 100}\")\n",
    "print(f\"Average RS Recall Score: {np.mean(rs_recall_scores) * 100}\")\n",
    "print(f\"Average RS F1 Score: {np.mean(rs_f1_scores) * 100}\")"
   ]
  },
  {
   "cell_type": "code",
   "execution_count": 26,
   "metadata": {},
   "outputs": [
    {
     "data": {
      "text/plain": [
       "<sklearn.metrics._plot.confusion_matrix.ConfusionMatrixDisplay at 0x7676f3d47f50>"
      ]
     },
     "execution_count": 26,
     "metadata": {},
     "output_type": "execute_result"
    },
    {
     "data": {
      "image/png": "[encoded data removed]",
      "text/plain": [
       "<Figure size 640x480 with 2 Axes>"
      ]
     },
     "metadata": {},
     "output_type": "display_data"
    }
   ],
   "source": [
    "# Confusion Matrix for random undersampled data\n",
    "log_model.fit(X_train, y_train)\n",
    "model_predictions = log_model.predict(X_test)\n",
    "ConfusionMatrixDisplay(confusion_matrix(y_test, model_predictions)).plot()"
   ]
  },
  {
   "cell_type": "code",
   "execution_count": 27,
   "metadata": {},
   "outputs": [
    {
     "data": {
      "text/plain": [
       "<sklearn.metrics._plot.confusion_matrix.ConfusionMatrixDisplay at 0x7676e9233010>"
      ]
     },
     "execution_count": 27,
     "metadata": {},
     "output_type": "execute_result"
    },
    {
     "data": {
      "image/png": "[encoded data removed]",
      "text/plain": [
       "<Figure size 640x480 with 2 Axes>"
      ]
     },
     "metadata": {},
     "output_type": "display_data"
    }
   ],
   "source": [
    "# Confusion Matrix for random undersampled data using imblearn\n",
    "log_model.fit(RSX_train, rsy_train)\n",
    "model_predictions = log_model.predict(RSX_test)\n",
    "ConfusionMatrixDisplay(confusion_matrix(rsy_test, model_predictions)).plot()"
   ]
  },
  {
   "cell_type": "code",
   "execution_count": 28,
   "metadata": {},
   "outputs": [
    {
     "data": {
      "image/png": "[encoded data removed]",
      "text/plain": [
       "<Figure size 640x480 with 1 Axes>"
      ]
     },
     "metadata": {},
     "output_type": "display_data"
    }
   ],
   "source": [
    "# Plotting the ROC curve for random undersampled data\n",
    "y_pred_proba = log_model.predict_proba(X_test)[:, 1]\n",
    "\n",
    "fpr, tpr, thresholds = roc_curve(y_test, y_pred_proba)\n",
    "\n",
    "roc_auc = auc(fpr, tpr)\n",
    "plt.figure()\n",
    "plt.plot(fpr, tpr, label='ROC curve (area = %0.2f)' % roc_auc)\n",
    "plt.plot([0, 1], [0, 1], 'k--', label='No Skill')\n",
    "plt.xlabel('False Positive Rate')\n",
    "plt.ylabel('True Positive Rate')\n",
    "plt.title('ROC Curve for Machine Failure Classification')\n",
    "plt.legend()\n",
    "plt.show()"
   ]
  },
  {
   "cell_type": "code",
   "execution_count": 32,
   "metadata": {},
   "outputs": [
    {
     "data": {
      "image/png": "[encoded data removed]",
      "text/plain": [
       "<Figure size 640x480 with 1 Axes>"
      ]
     },
     "metadata": {},
     "output_type": "display_data"
    }
   ],
   "source": [
    "# Plotting the ROC curve for random undersampled data using imblearn\n",
    "rsy_pred_proba = log_model.predict_proba(RSX_test)[:, 1]\n",
    "\n",
    "rsfpr, rstpr, thresholds = roc_curve(rsy_test, rsy_pred_proba)\n",
    "\n",
    "rsroc_auc = auc(rsfpr, rstpr)\n",
    "plt.figure()\n",
    "plt.plot(fpr, tpr, label='ROC curve (area = %0.2f)' % roc_auc) # Data not using imblearn\n",
    "plt.plot(rsfpr, rstpr, label='ROC curve RS(area = %0.2f)' % rsroc_auc) # Data using imblearn\n",
    "plt.plot([0, 1], [0, 1], 'k--', label='No Skill')\n",
    "plt.xlabel('False Positive Rate')\n",
    "plt.ylabel('True Positive Rate')\n",
    "plt.title('ROC Curve for Breast Cancer Classification')\n",
    "plt.legend()\n",
    "plt.show()"
   ]
  }
 ],
 "metadata": {
  "kernelspec": {
   "display_name": "base",
   "language": "python",
   "name": "python3"
  },
  "language_info": {
   "codemirror_mode": {
    "name": "ipython",
    "version": 3
   },
   "file_extension": ".py",
   "mimetype": "text/x-python",
   "name": "python",
   "nbconvert_exporter": "python",
   "pygments_lexer": "ipython3",
   "version": "3.11.7"
  }
 },
 "nbformat": 4,
 "nbformat_minor": 2
}
